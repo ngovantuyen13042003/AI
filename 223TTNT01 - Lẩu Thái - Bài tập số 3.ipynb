{
 "cells": [
  {
   "cell_type": "code",
   "execution_count": 10,
   "metadata": {},
   "outputs": [],
   "source": [
    "import pandas\n",
    "dataSource = pandas.read_csv('weight_height_10000.csv')"
   ]
  },
  {
   "cell_type": "code",
   "execution_count": 11,
   "metadata": {},
   "outputs": [
    {
     "name": "stdout",
     "output_type": "stream",
     "text": [
      "  Gender      Height      Weight\n",
      "0   Male  187.571423  109.721075\n",
      "1   Male  174.706036   73.622792\n",
      "2   Male  188.239668   96.497629\n",
      "3   Male  182.196685   99.809586\n",
      "4   Male  177.499761   93.598695\n",
      "9996\n"
     ]
    }
   ],
   "source": [
    "data = dataSource\n",
    "data['Height'] = dataSource['Height'].multiply(2.54)\n",
    "data['Weight'] = dataSource['Weight'].multiply(0.45359237)\n",
    "print(data.head())\n",
    "print(len(data))"
   ]
  },
  {
   "cell_type": "code",
   "execution_count": 12,
   "metadata": {},
   "outputs": [
    {
     "name": "stdout",
     "output_type": "stream",
     "text": [
      "Epoch [100/100], Loss: 0.9981\n",
      "Cân nặng dự đoán cho chiều cao 165 cm là: 73.2225817468812 kg\n"
     ]
    }
   ],
   "source": [
    "import numpy as np\n",
    "\n",
    "# Chuẩn hóa dữ liệu\n",
    "heights_norm = (data['Height'].to_numpy() - np.mean(data['Height'].to_numpy())) / np.std(data['Height'].to_numpy())\n",
    "weights_norm = (data['Weight'].to_numpy() - np.mean(data['Weight'].to_numpy())) / np.std(data['Weight'].to_numpy())\n",
    "\n",
    "# Xây dựng mô hình MLP\n",
    "input_size = 1\n",
    "hidden_size = 10\n",
    "output_size = 1\n",
    "learning_rate = 0.01\n",
    "\n",
    "# Khởi tạo trọng số\n",
    "np.random.seed(0)\n",
    "W1 = np.random.randn(hidden_size, input_size) * 0.01\n",
    "b1 = np.zeros((hidden_size, 1))\n",
    "W2 = np.random.randn(output_size, hidden_size) * 0.01\n",
    "b2 = np.zeros((output_size, 1))\n",
    "\n",
    "\n",
    "# Huấn luyện mô hình\n",
    "num_epochs = 100\n",
    "for epoch in range(num_epochs):\n",
    "    # Forward pass\n",
    "    Z1 = np.dot(W1, heights_norm.reshape(1, -1)) + b1\n",
    "    A1 = np.maximum(0, Z1)  # ReLU activation\n",
    "    Z2 = np.dot(W2, A1) + b2\n",
    "    predictions = Z2\n",
    "\n",
    "    # Compute loss\n",
    "    loss = np.mean((predictions - weights_norm.reshape(1, -1))**2)\n",
    "\n",
    "    # Backward pass\n",
    "    dZ2 = predictions - weights_norm.reshape(1, -1)\n",
    "    dW2 = np.dot(dZ2, A1.T) / data['Height'].shape[0]\n",
    "    db2 = np.mean(dZ2, axis=1, keepdims=True)\n",
    "    dA1 = np.dot(W2.T, dZ2)\n",
    "    dZ1 = dA1 * (Z1 > 0)  # ReLU gradient\n",
    "    dW1 = np.dot(dZ1, heights_norm.reshape(1, -1).T) / data['Height'].shape[0]\n",
    "    db1 = np.mean(dZ1, axis=1, keepdims=True)\n",
    "\n",
    "    # Update weights\n",
    "    W1 -= learning_rate * dW1\n",
    "    b1 -= learning_rate * db1\n",
    "    W2 -= learning_rate * dW2\n",
    "    b2 -= learning_rate * db2\n",
    "\n",
    "    if (epoch+1) % 100 == 0:\n",
    "        print(f'Epoch [{epoch+1}/{num_epochs}], Loss: {loss:.4f}')\n",
    "\n",
    "# Dự đoán cân nặng cho một chiều cao mới\n",
    "new_height = 165\n",
    "new_height_norm = (new_height - np.mean(data['Height'])) / np.std(data['Height'])\n",
    "Z1 = np.dot(W1, new_height_norm) + b1\n",
    "A1 = np.maximum(0, Z1)  # ReLU activation\n",
    "Z2 = np.dot(W2, A1) + b2\n",
    "predicted_weight_norm = Z2\n",
    "predicted_weight = predicted_weight_norm * np.std(data['Weight']) + np.mean(data['Weight'])\n",
    "print(f'Cân nặng dự đoán cho chiều cao {new_height} cm là: {predicted_weight.item()} kg')"
   ]
  }
 ],
 "metadata": {
  "kernelspec": {
   "display_name": "ai_class",
   "language": "python",
   "name": "python3"
  },
  "language_info": {
   "codemirror_mode": {
    "name": "ipython",
    "version": 3
   },
   "file_extension": ".py",
   "mimetype": "text/x-python",
   "name": "python",
   "nbconvert_exporter": "python",
   "pygments_lexer": "ipython3",
   "version": "3.9.19"
  }
 },
 "nbformat": 4,
 "nbformat_minor": 2
}
